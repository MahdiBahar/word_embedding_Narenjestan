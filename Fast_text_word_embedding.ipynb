{
 "cells": [
  {
   "cell_type": "markdown",
   "metadata": {},
   "source": [
    "## Input Libraries"
   ]
  },
  {
   "cell_type": "code",
   "execution_count": 5,
   "metadata": {},
   "outputs": [],
   "source": [
    "import fasttext\n",
    "from hazm import Normalizer, word_tokenize\n",
    "import numpy as np\n",
    "import pandas as pd"
   ]
  },
  {
   "cell_type": "markdown",
   "metadata": {},
   "source": [
    "## Import Dataset"
   ]
  },
  {
   "cell_type": "code",
   "execution_count": 8,
   "metadata": {},
   "outputs": [],
   "source": [
    "# Step 2: Load your Persian QA dataset\n",
    "# Assumption: The CSV file has two columns: \"question\" and \"answer\"\n",
    "data = pd.read_excel('/home/mahdi/word_embedding_Narenjestan/dataset/narenjestan_orginal.xlsx')  # Ensure UTF-8 encoding"
   ]
  },
  {
   "cell_type": "code",
   "execution_count": 10,
   "metadata": {},
   "outputs": [],
   "source": [
    "data.drop('Categories', axis=1 , inplace = True)"
   ]
  },
  {
   "cell_type": "markdown",
   "metadata": {},
   "source": [
    "## Preprocessing"
   ]
  },
  {
   "cell_type": "code",
   "execution_count": 12,
   "metadata": {},
   "outputs": [],
   "source": [
    "normalizer = Normalizer()\n",
    "def preprocess_text(text):\n",
    "    \n",
    "    normalized_text = normalizer.normalize(text)\n",
    "    tokens = word_tokenize(normalized_text)\n",
    "    return ' '.join(tokens)"
   ]
  },
  {
   "cell_type": "code",
   "execution_count": 3,
   "metadata": {},
   "outputs": [],
   "source": [
    "normalizer = Normalizer()\n",
    "\n",
    "def preprocess_persian_sentence(sentence):\n",
    "    # Normalize the sentence (this handles common orthographic issues)\n",
    "    normalized_sentence = normalizer.normalize(sentence)\n",
    "    # Tokenize the sentence into words\n",
    "    tokens = word_tokenize(normalized_sentence)\n",
    "    return tokens\n"
   ]
  },
  {
   "cell_type": "code",
   "execution_count": 4,
   "metadata": {},
   "outputs": [
    {
     "name": "stdout",
     "output_type": "stream",
     "text": [
      "['چگونه', 'می\\u200cتوانم', 'رمز', 'عبور', 'خود', 'را', 'تغییر', 'دهم', '؟']\n"
     ]
    }
   ],
   "source": [
    "# Example usage:\n",
    "sample_sentence = \"چگونه می‌توانم رمز عبور خود را تغییر دهم؟\"\n",
    "tokens = preprocess_persian_sentence(sample_sentence)\n",
    "print(tokens)"
   ]
  },
  {
   "cell_type": "code",
   "execution_count": 15,
   "metadata": {},
   "outputs": [],
   "source": [
    "training_filename = \"/home/mahdi/word_embedding_Narenjestan/dataset/preprocessed_dataset.txt\"\n",
    "with open(training_filename, \"w\", encoding=\"utf-8\") as f:\n",
    "    for idx, row in data.iterrows():\n",
    "        # Preprocess question and answer separately\n",
    "        preprocessed_question = preprocess_text(row[\"Question\"])\n",
    "        preprocessed_answer = preprocess_text(row[\"Answer\"])\n",
    "        # Write each preprocessed sentence as a new line in the file\n",
    "        f.write(preprocessed_question + \"\\n\")\n",
    "        f.write(preprocessed_answer + \"\\n\")"
   ]
  },
  {
   "cell_type": "markdown",
   "metadata": {},
   "source": [
    "## Using Fasttext"
   ]
  },
  {
   "cell_type": "code",
   "execution_count": null,
   "metadata": {},
   "outputs": [],
   "source": [
    "model = fasttext.train_unsupervised('/home/mahdi/word_embedding_Narenjestan/dataset/preprocessed_dataset.txt', model='skipgram', dim=300, ws=5, epoch=5)"
   ]
  }
 ],
 "metadata": {
  "kernelspec": {
   "display_name": ".myvenv11",
   "language": "python",
   "name": "python3"
  },
  "language_info": {
   "codemirror_mode": {
    "name": "ipython",
    "version": 3
   },
   "file_extension": ".py",
   "mimetype": "text/x-python",
   "name": "python",
   "nbconvert_exporter": "python",
   "pygments_lexer": "ipython3",
   "version": "3.11.11"
  }
 },
 "nbformat": 4,
 "nbformat_minor": 2
}
