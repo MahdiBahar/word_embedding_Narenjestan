{
 "cells": [
  {
   "cell_type": "markdown",
   "metadata": {},
   "source": [
    "## Input Libraries"
   ]
  },
  {
   "cell_type": "code",
   "execution_count": 5,
   "metadata": {},
   "outputs": [],
   "source": [
    "import fasttext\n",
    "from hazm import Normalizer, word_tokenize\n",
    "import numpy as np\n",
    "import pandas as pd"
   ]
  },
  {
   "cell_type": "markdown",
   "metadata": {},
   "source": [
    "## Import Dataset"
   ]
  },
  {
   "cell_type": "code",
   "execution_count": 8,
   "metadata": {},
   "outputs": [],
   "source": [
    "# Step 2: Load your Persian QA dataset\n",
    "# Assumption: The CSV file has two columns: \"question\" and \"answer\"\n",
    "data = pd.read_excel('/home/mahdi/word_embedding_Narenjestan/dataset/narenjestan_orginal.xlsx')  # Ensure UTF-8 encoding"
   ]
  },
  {
   "cell_type": "code",
   "execution_count": 10,
   "metadata": {},
   "outputs": [],
   "source": [
    "data.drop('Categories', axis=1 , inplace = True)"
   ]
  },
  {
   "cell_type": "markdown",
   "metadata": {},
   "source": [
    "## Preprocessing"
   ]
  },
  {
   "cell_type": "code",
   "execution_count": 12,
   "metadata": {},
   "outputs": [],
   "source": [
    "normalizer = Normalizer()\n",
    "def preprocess_text(text):\n",
    "    \n",
    "    normalized_text = normalizer.normalize(text)\n",
    "    tokens = word_tokenize(normalized_text)\n",
    "    return ' '.join(tokens)"
   ]
  },
  {
   "cell_type": "code",
   "execution_count": 3,
   "metadata": {},
   "outputs": [],
   "source": [
    "normalizer = Normalizer()\n",
    "\n",
    "def preprocess_persian_sentence(sentence):\n",
    "    # Normalize the sentence (this handles common orthographic issues)\n",
    "    normalized_sentence = normalizer.normalize(sentence)\n",
    "    # Tokenize the sentence into words\n",
    "    tokens = word_tokenize(normalized_sentence)\n",
    "    return tokens\n"
   ]
  },
  {
   "cell_type": "code",
   "execution_count": 4,
   "metadata": {},
   "outputs": [
    {
     "name": "stdout",
     "output_type": "stream",
     "text": [
      "['چگونه', 'می\\u200cتوانم', 'رمز', 'عبور', 'خود', 'را', 'تغییر', 'دهم', '؟']\n"
     ]
    }
   ],
   "source": [
    "# Example usage:\n",
    "sample_sentence = \"چگونه می‌توانم رمز عبور خود را تغییر دهم؟\"\n",
    "tokens = preprocess_persian_sentence(sample_sentence)\n",
    "print(tokens)"
   ]
  },
  {
   "cell_type": "code",
   "execution_count": 15,
   "metadata": {},
   "outputs": [],
   "source": [
    "training_filename = \"/home/mahdi/word_embedding_Narenjestan/dataset/preprocessed_dataset.txt\"\n",
    "with open(training_filename, \"w\", encoding=\"utf-8\") as f:\n",
    "    for idx, row in data.iterrows():\n",
    "        # Preprocess question and answer separately\n",
    "        preprocessed_question = preprocess_text(row[\"Question\"])\n",
    "        preprocessed_answer = preprocess_text(row[\"Answer\"])\n",
    "        # Write each preprocessed sentence as a new line in the file\n",
    "        f.write(preprocessed_question + \"\\n\")\n",
    "        f.write(preprocessed_answer + \"\\n\")"
   ]
  },
  {
   "cell_type": "markdown",
   "metadata": {},
   "source": [
    "## Using Fasttext"
   ]
  },
  {
   "cell_type": "code",
   "execution_count": 16,
   "metadata": {},
   "outputs": [
    {
     "name": "stderr",
     "output_type": "stream",
     "text": [
      "Read 0M words\n",
      "Number of words:  1733\n",
      "Number of labels: 0\n"
     ]
    },
    {
     "name": "stdout",
     "output_type": "stream",
     "text": [
      "FastText model trained.\n"
     ]
    },
    {
     "name": "stderr",
     "output_type": "stream",
     "text": [
      "Progress: 100.0% words/sec/thread:  120421 lr:  0.000000 avg.loss:  2.563948 ETA:   0h 0m 0s\n"
     ]
    }
   ],
   "source": [
    "model = fasttext.train_unsupervised('/home/mahdi/word_embedding_Narenjestan/dataset/preprocessed_dataset.txt', model='skipgram', dim=300, ws=5, epoch=5)\n",
    "print(\"FastText model trained.\")"
   ]
  },
  {
   "cell_type": "markdown",
   "metadata": {},
   "source": [
    "### Save model"
   ]
  },
  {
   "cell_type": "markdown",
   "metadata": {},
   "source": [
    "model.save_model(\"persian_fasttext_model.bin\")"
   ]
  },
  {
   "cell_type": "markdown",
   "metadata": {},
   "source": [
    "## Sentece Embedding"
   ]
  },
  {
   "cell_type": "code",
   "execution_count": 17,
   "metadata": {},
   "outputs": [],
   "source": [
    "# get sentence embeddings ---> using average\n",
    "def sentence_embedding(sentence, model):\n",
    "\n",
    "    # Preprocess the sentence using Hazm\n",
    "    normalized = normalizer.normalize(sentence)\n",
    "    tokens = word_tokenize(normalized)\n",
    "    word_vectors = [model.get_word_vector(token) for token in tokens if token.strip()]\n",
    "    if not word_vectors:\n",
    "        return np.zeros(model.get_dimension())\n",
    "    return np.mean(word_vectors, axis=0)"
   ]
  },
  {
   "cell_type": "markdown",
   "metadata": {},
   "source": [
    "## Calculate similarity"
   ]
  },
  {
   "cell_type": "code",
   "execution_count": 18,
   "metadata": {},
   "outputs": [],
   "source": [
    "def cosine_similarity(vec1, vec2):\n",
    "    \"\"\"\n",
    "    Compute the cosine similarity between two vectors.\n",
    "    \"\"\"\n",
    "    dot_product = np.dot(vec1, vec2)\n",
    "    norm1 = np.linalg.norm(vec1)\n",
    "    norm2 = np.linalg.norm(vec2)\n",
    "    if norm1 == 0 or norm2 == 0:\n",
    "        return 0.0  \n",
    "    return dot_product / (norm1 * norm2)"
   ]
  },
  {
   "cell_type": "markdown",
   "metadata": {},
   "source": [
    "## Example and Test the model"
   ]
  },
  {
   "cell_type": "code",
   "execution_count": 22,
   "metadata": {},
   "outputs": [
    {
     "name": "stdout",
     "output_type": "stream",
     "text": [
      "Sentence 1: یسبیسب لیبتات ککننتنک ععععغعو نمتم.\n",
      "Sentence 2: سلام.. خوبی. هوا سرده\n",
      "Cosine Similarity: 0.9711847\n"
     ]
    }
   ],
   "source": [
    "# sentence1 = data.iloc[0][\"Question\"]\n",
    "# sentence2 = data.iloc[1][\"Question\"]\n",
    "sentence2 = 'سلام.. خوبی. هوا سرده'\n",
    "sentence1 = 'یسبیسب لیبتات ککننتنک ععععغعو نمتم.'\n",
    "emb1 = sentence_embedding(sentence1, model)\n",
    "emb2 = sentence_embedding(sentence2, model)\n",
    "similarity = cosine_similarity(emb1, emb2)\n",
    "\n",
    "print(\"Sentence 1:\", sentence1)\n",
    "print(\"Sentence 2:\", sentence2)\n",
    "print(\"Cosine Similarity:\", similarity)"
   ]
  },
  {
   "cell_type": "code",
   "execution_count": null,
   "metadata": {},
   "outputs": [],
   "source": []
  }
 ],
 "metadata": {
  "kernelspec": {
   "display_name": ".myvenv11",
   "language": "python",
   "name": "python3"
  },
  "language_info": {
   "codemirror_mode": {
    "name": "ipython",
    "version": 3
   },
   "file_extension": ".py",
   "mimetype": "text/x-python",
   "name": "python",
   "nbconvert_exporter": "python",
   "pygments_lexer": "ipython3",
   "version": "3.11.11"
  }
 },
 "nbformat": 4,
 "nbformat_minor": 2
}
