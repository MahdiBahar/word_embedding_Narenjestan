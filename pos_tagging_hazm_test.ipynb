{
 "cells": [
  {
   "cell_type": "code",
   "execution_count": 2,
   "id": "fea5a3d5",
   "metadata": {},
   "outputs": [],
   "source": [
    "from hazm import *"
   ]
  },
  {
   "cell_type": "code",
   "execution_count": 3,
   "id": "700e4785",
   "metadata": {},
   "outputs": [
    {
     "data": {
      "text/plain": [
       "'اصلاح نویسه\\u200cها و استفاده از نیم\\u200cفاصله پردازش را آسان می\\u200cکند'"
      ]
     },
     "execution_count": 3,
     "metadata": {},
     "output_type": "execute_result"
    }
   ],
   "source": [
    "normalizer = Normalizer()\n",
    "normalizer.normalize('اصلاح نويسه ها و استفاده از نیم‌فاصله پردازش را آسان مي كند')\n",
    "# 'اصلاح نویسه‌ها و استفاده از نیم‌فاصله پردازش را آسان می‌کند'\n",
    "\n",
    "\n"
   ]
  },
  {
   "cell_type": "code",
   "execution_count": 4,
   "id": "627fc9c2",
   "metadata": {},
   "outputs": [
    {
     "data": {
      "text/plain": [
       "['ما هم برای وصل کردن آمدیم!', 'ولی برای پردازش، جدا بهتر نیست؟']"
      ]
     },
     "execution_count": 4,
     "metadata": {},
     "output_type": "execute_result"
    }
   ],
   "source": [
    "sent_tokenize('ما هم برای وصل کردن آمدیم! ولی برای پردازش، جدا بهتر نیست؟')\n",
    "# ['ما هم برای وصل کردن آمدیم!', 'ولی برای پردازش، جدا بهتر نیست؟']"
   ]
  },
  {
   "cell_type": "code",
   "execution_count": 5,
   "id": "17ae2a7d",
   "metadata": {},
   "outputs": [
    {
     "data": {
      "text/plain": [
       "['ولی', 'برای', 'پردازش', '،', 'جدا', 'بهتر', 'نیست', '؟']"
      ]
     },
     "execution_count": 5,
     "metadata": {},
     "output_type": "execute_result"
    }
   ],
   "source": [
    "\n",
    "word_tokenize('ولی برای پردازش، جدا بهتر نیست؟')\n",
    "# ['ولی', 'برای', 'پردازش', '،', 'جدا', 'بهتر', 'نیست', '؟']\n",
    "\n"
   ]
  },
  {
   "cell_type": "code",
   "execution_count": 6,
   "id": "ddafc362",
   "metadata": {},
   "outputs": [
    {
     "data": {
      "text/plain": [
       "'کتاب'"
      ]
     },
     "execution_count": 6,
     "metadata": {},
     "output_type": "execute_result"
    }
   ],
   "source": [
    "stemmer = Stemmer()\n",
    "stemmer.stem('کتاب‌ها')\n",
    "# 'کتاب'\n"
   ]
  },
  {
   "cell_type": "code",
   "execution_count": 7,
   "id": "3e6bca5f",
   "metadata": {},
   "outputs": [
    {
     "data": {
      "text/plain": [
       "'رفت#رو'"
      ]
     },
     "execution_count": 7,
     "metadata": {},
     "output_type": "execute_result"
    }
   ],
   "source": [
    "lemmatizer = Lemmatizer()\n",
    "lemmatizer.lemmatize('می‌روم')\n",
    "# 'رفت#رو'\n"
   ]
  },
  {
   "cell_type": "code",
   "execution_count": null,
   "id": "7df44717",
   "metadata": {},
   "outputs": [
    {
     "name": "stdout",
     "output_type": "stream",
     "text": [
      "[('ما', 'PRON'), ('بسیار', 'ADV'), ('کتاب', 'NOUN'), ('می\\u200cخوانیم', 'VERB')]\n"
     ]
    }
   ],
   "source": [
    "from hazm import POSTagger, word_tokenize\n",
    "\n",
    "# relative to your project root:\n",
    "tagger = POSTagger(model=\"resources/pos_tagger.model\")\n",
    "print(tagger.tag(word_tokenize(\"ما بسیار کتاب می‌خوانیم\")))"
   ]
  },
  {
   "cell_type": "code",
   "execution_count": 10,
   "id": "78cbdc55",
   "metadata": {},
   "outputs": [
    {
     "data": {
      "text/plain": [
       "[[('در', 'ADP'),\n",
       "  ('تبادل', 'NOUN,EZ'),\n",
       "  ('مانده', 'NOUN,EZ'),\n",
       "  ('انتقالی', 'ADJ,EZ'),\n",
       "  ('کاربر', 'NOUN'),\n",
       "  ('پیغام', 'NOUN'),\n",
       "  ('خطای', 'NOUN,EZ'),\n",
       "  ('کد', 'NOUN,EZ'),\n",
       "  ('ملی', 'ADJ'),\n",
       "  ('وارد', 'NOUN'),\n",
       "  ('شده', 'VERB'),\n",
       "  ('مرتبط', 'ADJ'),\n",
       "  ('با', 'ADP'),\n",
       "  ('این', 'DET'),\n",
       "  ('عملیات', 'NOUN'),\n",
       "  ('نمی\\u200cباشد', 'VERB'),\n",
       "  ('دریافت', 'NOUN'),\n",
       "  ('می\\u200cگردد', 'VERB'),\n",
       "  ('در', 'ADP'),\n",
       "  ('تمامی', 'DET,EZ'),\n",
       "  ('فعالیتهایی', 'NOUN'),\n",
       "  ('که', 'SCONJ'),\n",
       "  ('منجر', 'ADJ'),\n",
       "  ('به', 'ADP'),\n",
       "  ('ایجاد', 'NOUN,EZ'),\n",
       "  ('مانده', 'NOUN,EZ'),\n",
       "  ('انتقالی', 'ADJ'),\n",
       "  ('می\\u200cشوند', 'VERB'),\n",
       "  ('شناسه', 'NOUN,EZ'),\n",
       "  ('مشتری', 'NOUN'),\n",
       "  ('کدملی', 'NOUN'),\n",
       "  ('/', 'PUNCT'),\n",
       "  ('شناسه', 'NOUN,EZ'),\n",
       "  ('ملی', 'ADJ'),\n",
       "  ('در', 'ADP'),\n",
       "  ('فرم', 'NOUN,EZ'),\n",
       "  ('پولشویی', 'NOUN'),\n",
       "  ('از', 'ADP'),\n",
       "  ('اطلاعات', 'NOUN,EZ'),\n",
       "  ('قبلی', 'ADJ'),\n",
       "  ('بازیابی', 'NOUN'),\n",
       "  ('نشده', 'VERB'),\n",
       "  ('و', 'CCONJ'),\n",
       "  ('کاربر', 'NOUN'),\n",
       "  ('ملزم', 'ADJ'),\n",
       "  ('به', 'ADP'),\n",
       "  ('درج', 'NOUN,EZ'),\n",
       "  ('شناسه', 'NOUN,EZ'),\n",
       "  ('مشتری', 'NOUN'),\n",
       "  ('کدملی', 'NOUN'),\n",
       "  ('/', 'PUNCT'),\n",
       "  ('شناسه', 'NOUN,EZ'),\n",
       "  ('ملی', 'ADJ'),\n",
       "  ('در', 'ADP'),\n",
       "  ('فرم', 'NOUN,EZ'),\n",
       "  ('پولشویی', 'NOUN'),\n",
       "  ('برای', 'ADP,EZ'),\n",
       "  ('فعالیت', 'NOUN,EZ'),\n",
       "  ('بعدی', 'ADJ'),\n",
       "  ('می\\u200cباشد', 'VERB'),\n",
       "  ('جهت', 'ADP,EZ'),\n",
       "  ('استعلام', 'NOUN,EZ'),\n",
       "  ('کدملی', 'ADJ'),\n",
       "  ('مربوط', 'ADJ'),\n",
       "  ('به', 'ADP'),\n",
       "  ('مانده', 'NOUN,EZ'),\n",
       "  ('ایجادی', 'NOUN'),\n",
       "  ('می\\u200cبایست', 'VERB'),\n",
       "  ('از', 'ADP'),\n",
       "  ('طریق', 'NOUN,EZ'),\n",
       "  ('سامانه', 'NOUN,EZ'),\n",
       "  ('بک', 'NOUN'),\n",
       "  ('آفیس', 'NOUN'),\n",
       "  ('پشتیبانی', 'NOUN,EZ'),\n",
       "  ('فنی', 'ADJ,EZ'),\n",
       "  ('بازیابی', 'NOUN,EZ'),\n",
       "  ('اطلاعات', 'NOUN,EZ'),\n",
       "  ('شناسه', 'NOUN,EZ'),\n",
       "  ('مشتری', 'NOUN'),\n",
       "  ('تسک', 'NOUN,EZ'),\n",
       "  ('انتقالی', 'ADJ'),\n",
       "  ('اقدام', 'NOUN'),\n",
       "  ('گردد', 'VERB')]]"
      ]
     },
     "execution_count": 10,
     "metadata": {},
     "output_type": "execute_result"
    }
   ],
   "source": [
    "tagger.tag_sents(sentences = [['من', 'به', 'مدرسه', 'ایران', 'رفته_بودم', '.']])\n",
    "tagger.tag_sents(sentences = [word_tokenize(text)])\n"
   ]
  },
  {
   "cell_type": "code",
   "execution_count": 11,
   "id": "f0be215f",
   "metadata": {},
   "outputs": [
    {
     "data": {
      "text/plain": [
       "[[{'word': 'دلم',\n",
       "   'is_first': True,\n",
       "   'is_last': False,\n",
       "   'prefix-1': 'د',\n",
       "   'prefix-2': 'دل',\n",
       "   'prefix-3': 'دلم',\n",
       "   'suffix-1': 'م',\n",
       "   'suffix-2': 'لم',\n",
       "   'suffix-3': 'دلم',\n",
       "   'prev_word': '',\n",
       "   'two_prev_word': '',\n",
       "   'next_word': 'اینجا',\n",
       "   'two_next_word': 'مانده\\u200cاست',\n",
       "   'is_numeric': False,\n",
       "   'prev_is_numeric': '',\n",
       "   'next_is_numeric': False,\n",
       "   'is_punc': False,\n",
       "   'prev_is_punc': '',\n",
       "   'next_is_punc': False},\n",
       "  {'word': 'اینجا',\n",
       "   'is_first': False,\n",
       "   'is_last': False,\n",
       "   'prefix-1': 'ا',\n",
       "   'prefix-2': 'ای',\n",
       "   'prefix-3': 'این',\n",
       "   'suffix-1': 'ا',\n",
       "   'suffix-2': 'جا',\n",
       "   'suffix-3': 'نجا',\n",
       "   'prev_word': 'دلم',\n",
       "   'two_prev_word': '.',\n",
       "   'next_word': 'مانده\\u200cاست',\n",
       "   'two_next_word': '.',\n",
       "   'is_numeric': False,\n",
       "   'prev_is_numeric': False,\n",
       "   'next_is_numeric': False,\n",
       "   'is_punc': False,\n",
       "   'prev_is_punc': False,\n",
       "   'next_is_punc': False},\n",
       "  {'word': 'مانده\\u200cاست',\n",
       "   'is_first': False,\n",
       "   'is_last': False,\n",
       "   'prefix-1': 'م',\n",
       "   'prefix-2': 'ما',\n",
       "   'prefix-3': 'مان',\n",
       "   'suffix-1': 'ت',\n",
       "   'suffix-2': 'ست',\n",
       "   'suffix-3': 'است',\n",
       "   'prev_word': 'اینجا',\n",
       "   'two_prev_word': 'دلم',\n",
       "   'next_word': '.',\n",
       "   'two_next_word': '',\n",
       "   'is_numeric': False,\n",
       "   'prev_is_numeric': False,\n",
       "   'next_is_numeric': False,\n",
       "   'is_punc': False,\n",
       "   'prev_is_punc': False,\n",
       "   'next_is_punc': True},\n",
       "  {'word': '.',\n",
       "   'is_first': False,\n",
       "   'is_last': True,\n",
       "   'prefix-1': '.',\n",
       "   'prefix-2': '.',\n",
       "   'prefix-3': '.',\n",
       "   'suffix-1': '.',\n",
       "   'suffix-2': '.',\n",
       "   'suffix-3': '.',\n",
       "   'prev_word': 'مانده\\u200cاست',\n",
       "   'two_prev_word': 'اینجا',\n",
       "   'next_word': '',\n",
       "   'two_next_word': '',\n",
       "   'is_numeric': False,\n",
       "   'prev_is_numeric': False,\n",
       "   'next_is_numeric': '',\n",
       "   'is_punc': True,\n",
       "   'prev_is_punc': False,\n",
       "   'next_is_punc': ''}]]"
      ]
     },
     "execution_count": 11,
     "metadata": {},
     "output_type": "execute_result"
    }
   ],
   "source": [
    "tagger.data_maker(tokens = [['دلم', 'اینجا', 'مانده‌است', '.']])"
   ]
  },
  {
   "cell_type": "code",
   "execution_count": null,
   "id": "1453e064",
   "metadata": {},
   "outputs": [],
   "source": []
  },
  {
   "cell_type": "code",
   "execution_count": 12,
   "id": "2214e56b",
   "metadata": {},
   "outputs": [
    {
     "ename": "ImportError",
     "evalue": "cannot import name 'SpacyPOSTagger' from 'hazm' (/home/mahdi/word_embedding_Narenjestan/venv11-hazm/lib/python3.11/site-packages/hazm/__init__.py)",
     "output_type": "error",
     "traceback": [
      "\u001b[31m---------------------------------------------------------------------------\u001b[39m",
      "\u001b[31mImportError\u001b[39m                               Traceback (most recent call last)",
      "\u001b[36mCell\u001b[39m\u001b[36m \u001b[39m\u001b[32mIn[12]\u001b[39m\u001b[32m, line 1\u001b[39m\n\u001b[32m----> \u001b[39m\u001b[32m1\u001b[39m \u001b[38;5;28;01mfrom\u001b[39;00m\u001b[38;5;250m \u001b[39m\u001b[34;01mhazm\u001b[39;00m\u001b[38;5;250m \u001b[39m\u001b[38;5;28;01mimport\u001b[39;00m SpacyPOSTagger\n\u001b[32m      3\u001b[39m spacy_posTagger = SpacyPOSTagger(\n\u001b[32m      4\u001b[39m     model_path=\u001b[33m\"\u001b[39m\u001b[33m/home/mahdi/word_embedding_Narenjestan/spacy_pos_tagger_parsbertpostagger/transformer\u001b[39m\u001b[33m\"\u001b[39m\n\u001b[32m      5\u001b[39m )\n\u001b[32m      6\u001b[39m \u001b[38;5;28mprint\u001b[39m(spacy_posTagger.tag(tokens=[\u001b[33m'\u001b[39m\u001b[33mمن\u001b[39m\u001b[33m'\u001b[39m, \u001b[33m'\u001b[39m\u001b[33mبه\u001b[39m\u001b[33m'\u001b[39m, \u001b[33m'\u001b[39m\u001b[33mمدرسه\u001b[39m\u001b[33m'\u001b[39m, \u001b[33m'\u001b[39m\u001b[33mایران\u001b[39m\u001b[33m'\u001b[39m, \u001b[33m'\u001b[39m\u001b[33mرفته_بودم\u001b[39m\u001b[33m'\u001b[39m, \u001b[33m'\u001b[39m\u001b[33m.\u001b[39m\u001b[33m'\u001b[39m]))\n",
      "\u001b[31mImportError\u001b[39m: cannot import name 'SpacyPOSTagger' from 'hazm' (/home/mahdi/word_embedding_Narenjestan/venv11-hazm/lib/python3.11/site-packages/hazm/__init__.py)"
     ]
    }
   ],
   "source": [
    "from hazm import SpacyPOSTagger\n",
    "\n",
    "spacy_posTagger = SpacyPOSTagger(\n",
    "    model_path=\"/home/mahdi/word_embedding_Narenjestan/spacy_pos_tagger_parsbertpostagger/transformer\"\n",
    ")\n",
    "print(spacy_posTagger.tag(tokens=['من', 'به', 'مدرسه', 'ایران', 'رفته_بودم', '.']))\n",
    "# [('من', 'PRON'), ('به', 'ADP'), ('مدرسه', 'NOUN,EZ'), ('ایران', 'NOUN'), ('رفته_بودم', 'VERB'), ('.', 'PUNCT')]\n"
   ]
  },
  {
   "cell_type": "code",
   "execution_count": null,
   "id": "70601965",
   "metadata": {},
   "outputs": [
    {
     "ename": "ImportError",
     "evalue": "cannot import name 'SpacyPOSTagger' from 'hazm' (/home/mahdi/word_embedding_Narenjestan/venv11-hazm/lib/python3.11/site-packages/hazm/__init__.py)",
     "output_type": "error",
     "traceback": [
      "\u001b[31m---------------------------------------------------------------------------\u001b[39m",
      "\u001b[31mImportError\u001b[39m                               Traceback (most recent call last)",
      "\u001b[36mCell\u001b[39m\u001b[36m \u001b[39m\u001b[32mIn[14]\u001b[39m\u001b[32m, line 5\u001b[39m\n\u001b[32m      1\u001b[39m \u001b[38;5;28;01mimport\u001b[39;00m\u001b[38;5;250m \u001b[39m\u001b[34;01mhazm\u001b[39;00m\n\u001b[32m      2\u001b[39m \u001b[38;5;66;03m# pip‑show will reveal the version metadata even if __version__ isn’t defined:\u001b[39;00m\n\u001b[32m      3\u001b[39m \u001b[38;5;66;03m# in a shell: pip show hazm\u001b[39;00m\n\u001b[32m----> \u001b[39m\u001b[32m5\u001b[39m \u001b[38;5;28;01mfrom\u001b[39;00m\u001b[38;5;250m \u001b[39m\u001b[34;01mhazm\u001b[39;00m\u001b[38;5;250m \u001b[39m\u001b[38;5;28;01mimport\u001b[39;00m SpacyPOSTagger  \n\u001b[32m      6\u001b[39m \u001b[38;5;28mprint\u001b[39m(\u001b[33m\"\u001b[39m\u001b[33mok!\u001b[39m\u001b[33m\"\u001b[39m)  \n",
      "\u001b[31mImportError\u001b[39m: cannot import name 'SpacyPOSTagger' from 'hazm' (/home/mahdi/word_embedding_Narenjestan/venv11-hazm/lib/python3.11/site-packages/hazm/__init__.py)"
     ]
    }
   ],
   "source": [
    "import hazm\n",
    "\n",
    "\n",
    "from hazm import SpacyPOSTagger  \n",
    "print(\"ok!\")  \n"
   ]
  }
 ],
 "metadata": {
  "kernelspec": {
   "display_name": "venv11-hazm",
   "language": "python",
   "name": "python3"
  },
  "language_info": {
   "codemirror_mode": {
    "name": "ipython",
    "version": 3
   },
   "file_extension": ".py",
   "mimetype": "text/x-python",
   "name": "python",
   "nbconvert_exporter": "python",
   "pygments_lexer": "ipython3",
   "version": "3.12.4"
  }
 },
 "nbformat": 4,
 "nbformat_minor": 5
}
